{
    "cells": [
        {
            "metadata": {
                "collapsed": true
            },
            "cell_type": "markdown",
            "source": "# Boutique Hotels in HS2-Era Birmingham"
        },
        {
            "metadata": {},
            "cell_type": "markdown",
            "source": "The arrival of HS2 to Birmingham will provide a catalyst for regeneration and growth unparalleled in recent times. A completely new terminus station will place the City at a gateway to both the UK and European highspeed rail network.\n\nThis Masterplan maximises the regeneration and development potential of HS2 in the City Centre, in particular the Eastside, Digbeth and eastern side of the City Centre Core. These areas alone can provide:\n- 36,000 (net) jobs. \n- 600,000sq.m employment space.\n- 4,000 new homes. \n- \u00a31.4bn economic uplift.\n\nHS2\nRailways not only connect places - they connect people to jobs and businesses to markets efficiently and are an essential part of the wider transport network. Ensuring that the best infrastructure is in place and the capacity available is central to continued economic growth and prosperity. HS2 will be a key strand in the national transport network creating significant new rail capacity. As a key national infrastructure project HS2 will reshape the economicgeography of the UK.\nFor Phase 1 of HS2, London and Birmingham will be linked reducingjourney times from 1 hour 24 minutes to 49 minutes.Phase 2 of the scheme will connect Birmingham to other regionalcentres. Journey times will be halved between Birmingham andLeeds (from 1 hour 58 minutes to 57 minutes) and Birmingham and Manchester (1 hour 28 minutes to 41 minutes). Long term plans would see High Speed trains running to Newcastle, Glasgow and Edinburgh.\nFaster journey times are important, but capacity is the key consideration - and HS2 will also facilitate the future scope for improvements to local and regional rail services on the existing network.\n\nThe arrival of HS2 with Birmingham Curzon station provides the opportunity to unlock a range of\ndevelopment sites and accelerate regeneration initiatives. This Masterplan seeks to maximise those benefits\nby identifying 6 \u2018Places for Growth\u2019 located across Eastside, Digbeth and the City Centre Core. The station\u2019s\nlocation brings opportunities for all major economic and growth sectors within the City Centre - the \u2018arrival\u2019\nopportunity for the station itself; for retail, office, leisure, education and research, creative enterprises and\nnew residential communities. \n\nhttps://www.birmingham.gov.uk/downloads/file/730/birmingham_curzon_hs2_masterplan\n\nRetail\nThe retail landscape of High Street will be transformed to provide stronger connections to Birmingham Curzon and create a retail frontage to a new Station Square formed through the redesign of Moor Street Queensway. \n\nVisit\nMillennium Point and Eastside City Park are already major visitor destinations in their own right and their role will be further enhanced by the additional activity that Birmingham Curzon will bring.\n\nCreative\nDigbeth\u2019s historic setting provides a variety of unique opportunities perfect for the growing number of companies involved with digital technologies, design, TV production and arts. New destination style developments benefiting from the proximity to HS2 will be created including\na mixed use scheme at Typhoo Wharf and a canal-side residential neighbourhood. The wider area will be served by a new Metro line.\n\nBusiness\nMartineau Square and Exchange Square developments will be on the doorstep of the new international railway station with opportunities for high-quality commercial office space with direct connections through to the existing business district.\n\nLearning and Research\nThe research and technology businesses and educational focus will continue to grow around the Birmingham Science Park Aston and at BCU campus with further opportunities at the Eastside Locks site to deliver a major mixed-use development providing a range of office, leisure, retail,\nresidential and hotel uses. "
        },
        {
            "metadata": {},
            "cell_type": "code",
            "source": "import requests # library to handle requests\nimport pandas as pd # library for data analsysis\nimport numpy as np # library to handle data in a vectorized manner\nimport random # library for random number generation\n\n!conda install -c conda-forge geopy --yes \nfrom geopy.geocoders import Nominatim # module to convert an address into latitude and longitude values\n\n# libraries for displaying images\nfrom IPython.display import Image \nfrom IPython.core.display import HTML \n    \n# tranforming json file into a pandas dataframe library\nfrom pandas.io.json import json_normalize\n\n!conda install -c conda-forge folium=0.5.0 --yes\nimport folium # plotting library\n\nprint('Folium installed')\nprint('Libraries imported.')",
            "execution_count": 1,
            "outputs": [
                {
                    "output_type": "stream",
                    "text": "Solving environment: done\n\n## Package Plan ##\n\n  environment location: /opt/conda/envs/Python36\n\n  added / updated specs: \n    - geopy\n\n\nThe following packages will be downloaded:\n\n    package                    |            build\n    ---------------------------|-----------------\n    openssl-1.1.1d             |       h516909a_0         2.1 MB  conda-forge\n    geopy-1.21.0               |             py_0          58 KB  conda-forge\n    ca-certificates-2019.11.28 |       hecc5488_0         145 KB  conda-forge\n    certifi-2019.11.28         |           py36_0         149 KB  conda-forge\n    geographiclib-1.50         |             py_0          34 KB  conda-forge\n    ------------------------------------------------------------\n                                           Total:         2.5 MB\n\nThe following NEW packages will be INSTALLED:\n\n    geographiclib:   1.50-py_0         conda-forge\n    geopy:           1.21.0-py_0       conda-forge\n\nThe following packages will be UPDATED:\n\n    ca-certificates: 2019.11.27-0                  --> 2019.11.28-hecc5488_0 conda-forge\n    certifi:         2019.11.28-py36_0             --> 2019.11.28-py36_0     conda-forge\n\nThe following packages will be DOWNGRADED:\n\n    openssl:         1.1.1d-h7b6447c_3             --> 1.1.1d-h516909a_0     conda-forge\n\n\nDownloading and Extracting Packages\nopenssl-1.1.1d       | 2.1 MB    | ##################################### | 100% \ngeopy-1.21.0         | 58 KB     | ##################################### | 100% \nca-certificates-2019 | 145 KB    | ##################################### | 100% \ncertifi-2019.11.28   | 149 KB    | ##################################### | 100% \ngeographiclib-1.50   | 34 KB     | ##################################### | 100% \nPreparing transaction: done\nVerifying transaction: done\nExecuting transaction: done\nSolving environment: done\n\n## Package Plan ##\n\n  environment location: /opt/conda/envs/Python36\n\n  added / updated specs: \n    - folium=0.5.0\n\n\nThe following packages will be downloaded:\n\n    package                    |            build\n    ---------------------------|-----------------\n    altair-4.0.1               |             py_0         575 KB  conda-forge\n    vincent-0.4.4              |             py_1          28 KB  conda-forge\n    branca-0.4.0               |             py_0          26 KB  conda-forge\n    folium-0.5.0               |             py_0          45 KB  conda-forge\n    ------------------------------------------------------------\n                                           Total:         673 KB\n\nThe following NEW packages will be INSTALLED:\n\n    altair:  4.0.1-py_0 conda-forge\n    branca:  0.4.0-py_0 conda-forge\n    folium:  0.5.0-py_0 conda-forge\n    vincent: 0.4.4-py_1 conda-forge\n\n\nDownloading and Extracting Packages\naltair-4.0.1         | 575 KB    | ##################################### | 100% \nvincent-0.4.4        | 28 KB     | ##################################### | 100% \nbranca-0.4.0         | 26 KB     | ##################################### | 100% \nfolium-0.5.0         | 45 KB     | ##################################### | 100% \nPreparing transaction: done\nVerifying transaction: done\nExecuting transaction: done\nFolium installed\nLibraries imported.\n",
                    "name": "stdout"
                }
            ]
        },
        {
            "metadata": {},
            "cell_type": "code",
            "source": "CLIENT_ID = 'QNBM2LMRAUNUXJCPPBXC0WZQJIJQMBVURYLWBCXM1FQOEQPX' # your Foursquare ID\nCLIENT_SECRET = 'MPACHLKKDKKTVJJPNMI32VEAC3CPM5WL2ZRF5Z2A2Z0313J2' # your Foursquare Secret\nVERSION = '20180604'\nLIMIT = 30\nprint('Your credentails:')\nprint('CLIENT_ID: ' + CLIENT_ID)\nprint('CLIENT_SECRET:' + CLIENT_SECRET)",
            "execution_count": 2,
            "outputs": [
                {
                    "output_type": "stream",
                    "text": "Your credentails:\nCLIENT_ID: QNBM2LMRAUNUXJCPPBXC0WZQJIJQMBVURYLWBCXM1FQOEQPX\nCLIENT_SECRET:MPACHLKKDKKTVJJPNMI32VEAC3CPM5WL2ZRF5Z2A2Z0313J2\n",
                    "name": "stdout"
                }
            ]
        },
        {
            "metadata": {},
            "cell_type": "code",
            "source": "address = 'Moor St Queensway, Birmingham, West Midlands, B4 7UL, UK'\n\ngeolocator = Nominatim(user_agent=\"foursquare_agent\")\nlocation = geolocator.geocode(address)\nlatitude = location.latitude\nlongitude = location.longitude\nprint(latitude, longitude)",
            "execution_count": 6,
            "outputs": [
                {
                    "output_type": "stream",
                    "text": "52.4788762 -1.8929807\n",
                    "name": "stdout"
                }
            ]
        },
        {
            "metadata": {},
            "cell_type": "code",
            "source": "",
            "execution_count": null,
            "outputs": []
        },
        {
            "metadata": {},
            "cell_type": "code",
            "source": "",
            "execution_count": null,
            "outputs": []
        },
        {
            "metadata": {},
            "cell_type": "code",
            "source": "",
            "execution_count": null,
            "outputs": []
        },
        {
            "metadata": {},
            "cell_type": "code",
            "source": "",
            "execution_count": null,
            "outputs": []
        }
    ],
    "metadata": {
        "kernelspec": {
            "name": "python3",
            "display_name": "Python 3.6",
            "language": "python"
        },
        "language_info": {
            "name": "python",
            "version": "3.6.9",
            "mimetype": "text/x-python",
            "codemirror_mode": {
                "name": "ipython",
                "version": 3
            },
            "pygments_lexer": "ipython3",
            "nbconvert_exporter": "python",
            "file_extension": ".py"
        }
    },
    "nbformat": 4,
    "nbformat_minor": 1
}